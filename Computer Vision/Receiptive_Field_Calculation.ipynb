{
  "nbformat": 4,
  "nbformat_minor": 0,
  "metadata": {
    "colab": {
      "name": "Receiptive Field Calculation.ipynb",
      "provenance": [],
      "include_colab_link": true
    },
    "kernelspec": {
      "name": "python3",
      "display_name": "Python 3"
    }
  },
  "cells": [
    {
      "cell_type": "markdown",
      "metadata": {
        "id": "view-in-github",
        "colab_type": "text"
      },
      "source": [
        "<a href=\"https://colab.research.google.com/github/vvshankar78/Deep-Learning/blob/master/Computer%20Vision/Receiptive_Field_Calculation.ipynb\" target=\"_parent\"><img src=\"https://colab.research.google.com/assets/colab-badge.svg\" alt=\"Open In Colab\"/></a>"
      ]
    },
    {
      "cell_type": "markdown",
      "metadata": {
        "id": "I_n8udKb49Cc",
        "colab_type": "text"
      },
      "source": [
        "This program provides a calculation table for receiptive fields and convolutions. \n",
        "\n",
        "As an input we will need to create a list for each layer, the kernal, stride and padding values. \n",
        "\n",
        "References:\n",
        "\n",
        "https://medium.com/syncedreview/a-guide-to-receptive-field-arithmetic-for-convolutional-neural-networks-42f33d4378e0\n",
        "\n",
        "\n",
        "https://gist.github.com/Nikasa1889/781a8eb20c5b32f8e378353cde4daa51#file-computereceptivefield-py\n",
        "\n"
      ]
    },
    {
      "cell_type": "code",
      "metadata": {
        "id": "N8TQPeBcSCty",
        "colab_type": "code",
        "colab": {}
      },
      "source": [
        "import pandas as pd\n",
        "import numpy as np"
      ],
      "execution_count": 0,
      "outputs": []
    },
    {
      "cell_type": "code",
      "metadata": {
        "id": "EHLAatU7SFvY",
        "colab_type": "code",
        "colab": {}
      },
      "source": [
        "#layers = [[3,0,1],[3,0,1],[2,0,2],[3,0,1],[3,0,1],[2,0,2],[3,0,1],[3,0,1],[3,0,1],[2,0,2],[3,0,1],[3,0,1],[3,0,1],[2,0,2],[3,0,1],[3,0,1],[7,0,1]]\n",
        "\n",
        "layers = [[11,4,0],[3,2,0],[5,1,2],[3,2,0],[3,1,1],[3,1,1],[3,1,1],[3,2,0],[6,1,0], [1, 1, 0]]\n",
        "layer_names = ['conv1','pool1','conv2','pool2','conv3','conv4','conv5','pool5','fc6-conv', 'fc7-conv']\n",
        "\n",
        "im_size = 227\n"
      ],
      "execution_count": 0,
      "outputs": []
    },
    {
      "cell_type": "code",
      "metadata": {
        "id": "Noj-81gwVnoZ",
        "colab_type": "code",
        "colab": {}
      },
      "source": [
        "def outfromin(size_in,kernal,padding,stride):\n",
        "  return round(((size_in + (2*padding)- kernal)/stride)+1)\n",
        "\n",
        "def receptive(R_in,kernal,J_in):\n",
        "  return R_in + (kernal-1)*J_in"
      ],
      "execution_count": 0,
      "outputs": []
    },
    {
      "cell_type": "code",
      "metadata": {
        "id": "_hrCecRBSXqR",
        "colab_type": "code",
        "colab": {
          "base_uri": "https://localhost:8080/",
          "height": 34
        },
        "outputId": "c997357e-2b9c-4a15-dd43-55b2b837a7d8"
      },
      "source": [
        "\n",
        "n_in = img_size\n",
        "j_in =1\n",
        "R_in=1\n",
        "print(len(layers))\n",
        "layers_info =[]\n",
        "\n",
        "for i in range(len(layers)):\n",
        "  #k = layers[i][0]\n",
        "  #p = layers[i][1]\n",
        "  #s = layers[i][2]\n",
        "  k,s,p = layers[i]\n",
        "  n_out = outfromin(n_in,k,p,s)\n",
        "  \n",
        "  j_out = j_in*s\n",
        "  R_out = receptive(R_in,k,j_in)\n",
        "  layers_info.append([layer_names[i],k,p,s,n_in,n_out,R_in,R_out,j_in])\n",
        "\n",
        "  #print(k,p,s,n_in, n_out,R_in, R_out,j_in)\n",
        "  n_in = n_out\n",
        "  R_in = R_out\n",
        "  j_in = j_out\n",
        "\n"
      ],
      "execution_count": 81,
      "outputs": [
        {
          "output_type": "stream",
          "text": [
            "10\n"
          ],
          "name": "stdout"
        }
      ]
    },
    {
      "cell_type": "code",
      "metadata": {
        "id": "quIRS-jISbpE",
        "colab_type": "code",
        "colab": {
          "base_uri": "https://localhost:8080/",
          "height": 373
        },
        "outputId": "dc76757a-9aac-4f75-9ac2-cde96a4c0c03"
      },
      "source": [
        "df = pd.DataFrame(layers_info,columns=['layer#','kernal',\n",
        "                                       'padding',\n",
        "                                       'stride',\n",
        "                                       'img_size_IN',\n",
        "                                       'img_size_OUT',\n",
        "                                       'R_in',\n",
        "                                       'R_out',\n",
        "                                       'Jump'])\n",
        "df.set_index('layer#')"
      ],
      "execution_count": 82,
      "outputs": [
        {
          "output_type": "execute_result",
          "data": {
            "text/html": [
              "<div>\n",
              "<style scoped>\n",
              "    .dataframe tbody tr th:only-of-type {\n",
              "        vertical-align: middle;\n",
              "    }\n",
              "\n",
              "    .dataframe tbody tr th {\n",
              "        vertical-align: top;\n",
              "    }\n",
              "\n",
              "    .dataframe thead th {\n",
              "        text-align: right;\n",
              "    }\n",
              "</style>\n",
              "<table border=\"1\" class=\"dataframe\">\n",
              "  <thead>\n",
              "    <tr style=\"text-align: right;\">\n",
              "      <th></th>\n",
              "      <th>kernal</th>\n",
              "      <th>padding</th>\n",
              "      <th>stride</th>\n",
              "      <th>img_size_IN</th>\n",
              "      <th>img_size_OUT</th>\n",
              "      <th>R_in</th>\n",
              "      <th>R_out</th>\n",
              "      <th>Jump</th>\n",
              "    </tr>\n",
              "    <tr>\n",
              "      <th>layer#</th>\n",
              "      <th></th>\n",
              "      <th></th>\n",
              "      <th></th>\n",
              "      <th></th>\n",
              "      <th></th>\n",
              "      <th></th>\n",
              "      <th></th>\n",
              "      <th></th>\n",
              "    </tr>\n",
              "  </thead>\n",
              "  <tbody>\n",
              "    <tr>\n",
              "      <th>conv1</th>\n",
              "      <td>11</td>\n",
              "      <td>0</td>\n",
              "      <td>4</td>\n",
              "      <td>224</td>\n",
              "      <td>54</td>\n",
              "      <td>1</td>\n",
              "      <td>11</td>\n",
              "      <td>1</td>\n",
              "    </tr>\n",
              "    <tr>\n",
              "      <th>pool1</th>\n",
              "      <td>3</td>\n",
              "      <td>0</td>\n",
              "      <td>2</td>\n",
              "      <td>54</td>\n",
              "      <td>26</td>\n",
              "      <td>11</td>\n",
              "      <td>19</td>\n",
              "      <td>4</td>\n",
              "    </tr>\n",
              "    <tr>\n",
              "      <th>conv2</th>\n",
              "      <td>5</td>\n",
              "      <td>2</td>\n",
              "      <td>1</td>\n",
              "      <td>26</td>\n",
              "      <td>26</td>\n",
              "      <td>19</td>\n",
              "      <td>51</td>\n",
              "      <td>8</td>\n",
              "    </tr>\n",
              "    <tr>\n",
              "      <th>pool2</th>\n",
              "      <td>3</td>\n",
              "      <td>0</td>\n",
              "      <td>2</td>\n",
              "      <td>26</td>\n",
              "      <td>12</td>\n",
              "      <td>51</td>\n",
              "      <td>67</td>\n",
              "      <td>8</td>\n",
              "    </tr>\n",
              "    <tr>\n",
              "      <th>conv3</th>\n",
              "      <td>3</td>\n",
              "      <td>1</td>\n",
              "      <td>1</td>\n",
              "      <td>12</td>\n",
              "      <td>12</td>\n",
              "      <td>67</td>\n",
              "      <td>99</td>\n",
              "      <td>16</td>\n",
              "    </tr>\n",
              "    <tr>\n",
              "      <th>conv4</th>\n",
              "      <td>3</td>\n",
              "      <td>1</td>\n",
              "      <td>1</td>\n",
              "      <td>12</td>\n",
              "      <td>12</td>\n",
              "      <td>99</td>\n",
              "      <td>131</td>\n",
              "      <td>16</td>\n",
              "    </tr>\n",
              "    <tr>\n",
              "      <th>conv5</th>\n",
              "      <td>3</td>\n",
              "      <td>1</td>\n",
              "      <td>1</td>\n",
              "      <td>12</td>\n",
              "      <td>12</td>\n",
              "      <td>131</td>\n",
              "      <td>163</td>\n",
              "      <td>16</td>\n",
              "    </tr>\n",
              "    <tr>\n",
              "      <th>pool5</th>\n",
              "      <td>3</td>\n",
              "      <td>0</td>\n",
              "      <td>2</td>\n",
              "      <td>12</td>\n",
              "      <td>6</td>\n",
              "      <td>163</td>\n",
              "      <td>195</td>\n",
              "      <td>16</td>\n",
              "    </tr>\n",
              "    <tr>\n",
              "      <th>fc6-conv</th>\n",
              "      <td>6</td>\n",
              "      <td>0</td>\n",
              "      <td>1</td>\n",
              "      <td>6</td>\n",
              "      <td>1</td>\n",
              "      <td>195</td>\n",
              "      <td>355</td>\n",
              "      <td>32</td>\n",
              "    </tr>\n",
              "    <tr>\n",
              "      <th>fc7-conv</th>\n",
              "      <td>1</td>\n",
              "      <td>0</td>\n",
              "      <td>1</td>\n",
              "      <td>1</td>\n",
              "      <td>1</td>\n",
              "      <td>355</td>\n",
              "      <td>355</td>\n",
              "      <td>32</td>\n",
              "    </tr>\n",
              "  </tbody>\n",
              "</table>\n",
              "</div>"
            ],
            "text/plain": [
              "          kernal  padding  stride  img_size_IN  img_size_OUT  R_in  R_out  Jump\n",
              "layer#                                                                         \n",
              "conv1         11        0       4          224            54     1     11     1\n",
              "pool1          3        0       2           54            26    11     19     4\n",
              "conv2          5        2       1           26            26    19     51     8\n",
              "pool2          3        0       2           26            12    51     67     8\n",
              "conv3          3        1       1           12            12    67     99    16\n",
              "conv4          3        1       1           12            12    99    131    16\n",
              "conv5          3        1       1           12            12   131    163    16\n",
              "pool5          3        0       2           12             6   163    195    16\n",
              "fc6-conv       6        0       1            6             1   195    355    32\n",
              "fc7-conv       1        0       1            1             1   355    355    32"
            ]
          },
          "metadata": {
            "tags": []
          },
          "execution_count": 82
        }
      ]
    }
  ]
}